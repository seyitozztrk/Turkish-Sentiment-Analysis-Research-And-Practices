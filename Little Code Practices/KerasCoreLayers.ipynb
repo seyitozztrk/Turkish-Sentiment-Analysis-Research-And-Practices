{
  "nbformat": 4,
  "nbformat_minor": 0,
  "metadata": {
    "colab": {
      "name": "KerasCoreLayers.ipynb",
      "provenance": [],
      "collapsed_sections": []
    },
    "kernelspec": {
      "name": "python3",
      "display_name": "Python 3"
    },
    "language_info": {
      "name": "python"
    }
  },
  "cells": [
    {
      "cell_type": "markdown",
      "metadata": {
        "id": "oXcwH2CnUrmR"
      },
      "source": [
        "This tutorial is from https://keras.io/api/layers/core_layers/"
      ]
    },
    {
      "cell_type": "code",
      "metadata": {
        "id": "WiF7Dp5HKxgd"
      },
      "source": [
        "import tensorflow as tf\n",
        "from tensorflow import keras\n",
        "from tensorflow.keras import layers"
      ],
      "execution_count": 1,
      "outputs": []
    },
    {
      "cell_type": "markdown",
      "metadata": {
        "id": "-3ZD9nbgMyHi"
      },
      "source": [
        "Input() is used to instantiate a Keras tensor.\n",
        "\n",
        "A Keras tensor is a TensorFlow symbolic tensor object, which we augment with certain attributes that allow us to build a Keras model just by knowing the inputs and outputs of the model."
      ]
    },
    {
      "cell_type": "code",
      "metadata": {
        "id": "ATUSg-uyLMvV"
      },
      "source": [
        "tf.keras.Input(\n",
        "    shape=None,\n",
        "    batch_size=None,\n",
        "    name=None,\n",
        "    dtype=None,\n",
        "    sparse=False,\n",
        "    tensor=None,\n",
        "    ragged=False,\n",
        "    **kwargs\n",
        ")\n"
      ],
      "execution_count": null,
      "outputs": []
    },
    {
      "cell_type": "markdown",
      "metadata": {
        "id": "14s2cC9KNp2V"
      },
      "source": [
        "#Dense layer\n"
      ]
    },
    {
      "cell_type": "code",
      "metadata": {
        "id": "cehyh2bsLMx4"
      },
      "source": [
        "tf.keras.layers.Dense(\n",
        "    units,\n",
        "    activation=None,\n",
        "    use_bias=True,\n",
        "    kernel_initializer=\"glorot_uniform\",\n",
        "    bias_initializer=\"zeros\",\n",
        "    kernel_regularizer=None,\n",
        "    bias_regularizer=None,\n",
        "    activity_regularizer=None,\n",
        "    kernel_constraint=None,\n",
        "    bias_constraint=None,\n",
        "    **kwargs\n",
        ")"
      ],
      "execution_count": 8,
      "outputs": []
    },
    {
      "cell_type": "markdown",
      "metadata": {
        "id": "oheLBfCKN2OZ"
      },
      "source": [
        "Dense implements the operation: output = activation(dot(input, kernel) + bias) where activation is the element-wise activation function passed as the activation argument, kernel is a weights matrix created by the layer, and bias is a bias vector created by the layer (only applicable if use_bias is True)."
      ]
    },
    {
      "cell_type": "markdown",
      "metadata": {
        "id": "VFxfRhACONC2"
      },
      "source": [
        "#Example : https://keras.io/api/layers/core_layers/dense/ "
      ]
    },
    {
      "cell_type": "code",
      "metadata": {
        "colab": {
          "base_uri": "https://localhost:8080/"
        },
        "id": "NbB5pM_VLM0e",
        "outputId": "23506a02-d9a3-441a-8239-dd4be696734b"
      },
      "source": [
        "#create a 'sequential' model and add a Dense layer as the first layer \n",
        "model = tf.keras.models.Sequential()\n",
        "model.add(tf.keras.Input(shape=(16,)))\n",
        "model.add(tf.keras.layers.Dense(32, activation='relu')) \n",
        "# Now the model will take as input arrays of shape (None, 16)  \n",
        "# and output arrays of shape (None, 32).  \n",
        "# Note that after the first layer, you don't need to specify  \n",
        "# the size of the input anymore:\n",
        "model.add(tf.keras.layers.Dense(32))\n",
        "model.output_shape "
      ],
      "execution_count": 9,
      "outputs": [
        {
          "output_type": "execute_result",
          "data": {
            "text/plain": [
              "(None, 32)"
            ]
          },
          "metadata": {
            "tags": []
          },
          "execution_count": 9
        }
      ]
    },
    {
      "cell_type": "markdown",
      "metadata": {
        "id": "LbqHamqBPVcb"
      },
      "source": [
        "#Arguments\n",
        "\n",
        "***->units: Positive integer, dimensionality of the output space.***\n",
        "***->activation: Activation function to use. If you don't specify anything, no activation is applied (ie. \"linear\" activation: a(x) = x).***\n",
        "\n",
        "***->use_bias: Boolean, whether the layer uses a bias vector.***\n",
        "\n",
        "***->kernel_initializer: Initializer for the kernel weights matrix.***\n",
        "\n",
        "***->bias_initializer: Initializer for the bias vector.***\n",
        "\n",
        "***->kernel_regularizer: Regularizer function applied to the kernel weights matrix.***\n",
        "\n",
        "***->bias_regularizer: Regularizer function applied to the bias vector.***\n",
        "\n",
        "***->activity_regularizer: Regularizer function applied to the output of the layer (its \"activation\").***\n",
        "\n",
        "***->kernel_constraint: Constraint function applied to the kernel weights matrix.***\n",
        "***->bias_constraint: Constraint function applied to the bias vector.***\n"
      ]
    },
    {
      "cell_type": "markdown",
      "metadata": {
        "id": "AoyweripP8Uw"
      },
      "source": [
        "#Activation layer : Applies an activation function to an output."
      ]
    },
    {
      "cell_type": "code",
      "metadata": {
        "colab": {
          "base_uri": "https://localhost:8080/"
        },
        "id": "4cIBaroNLM3Q",
        "outputId": "3ac99243-ae45-4354-edcb-0bc32ce36a63"
      },
      "source": [
        "layer = tf.keras.layers.Activation(tf.nn.relu)\n",
        "output = layer([-3.0, -1.0, 0.0, 2.0])\n",
        "list(output.numpy())"
      ],
      "execution_count": 15,
      "outputs": [
        {
          "output_type": "execute_result",
          "data": {
            "text/plain": [
              "[0.0, 0.0, 0.0, 2.0]"
            ]
          },
          "metadata": {
            "tags": []
          },
          "execution_count": 15
        }
      ]
    },
    {
      "cell_type": "markdown",
      "metadata": {
        "id": "mO61jTTHQfKz"
      },
      "source": [
        "![1200px-ReLU_and_GELU.svg.png](data:image/png;base64,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)"
      ]
    },
    {
      "cell_type": "markdown",
      "metadata": {
        "id": "GWroyhjRQvfH"
      },
      "source": [
        "# Embedding layer : Turns positive integers (indexes) into dense vectors of fixed size. \n",
        "\n",
        "e.g. [[4], [20]] -> [[0.25, 0.1], [0.6, -0.2]]\n",
        "\n",
        "This layer can only be used as the first layer in a model.\n",
        "\n"
      ]
    },
    {
      "cell_type": "code",
      "metadata": {
        "colab": {
          "base_uri": "https://localhost:8080/"
        },
        "id": "8WLYkIu8LM5w",
        "outputId": "91223638-dc82-4c0b-8fbb-ed1f69563b7f"
      },
      "source": [
        "import numpy as np \n",
        "model = tf.keras.Sequential()\n",
        "model.add(tf.keras.layers.Embedding(1000, 64, input_length=10))\n",
        "# The model will take as input an integer matrix of size (batch,  \n",
        "# input_length), and the largest integer (i.e. word index) in the input  \n",
        "# should be no larger than 999 (vocabulary size).\n",
        "# Now model.output_shape is (None, 10, 64), where `None` is the batch dimension.  \n",
        "# input_array = np.random.randint(2000, size=(32,10)) \n",
        "# it gives an error bec of 2000.\n",
        "input_array = np.random.randint(1000, size=(32,10))\n",
        "\n",
        "model.compile('rmsprop', 'mse')\n",
        "output_array = model.predict(input_array)\n",
        "print(output_array.shape)\n",
        "\n",
        "print('input array dimensions -> ', input_array.shape)\n",
        "\n"
      ],
      "execution_count": 29,
      "outputs": [
        {
          "output_type": "stream",
          "text": [
            "WARNING:tensorflow:6 out of the last 11 calls to <function Model.make_predict_function.<locals>.predict_function at 0x7f7281c9e200> triggered tf.function retracing. Tracing is expensive and the excessive number of tracings could be due to (1) creating @tf.function repeatedly in a loop, (2) passing tensors with different shapes, (3) passing Python objects instead of tensors. For (1), please define your @tf.function outside of the loop. For (2), @tf.function has experimental_relax_shapes=True option that relaxes argument shapes that can avoid unnecessary retracing. For (3), please refer to https://www.tensorflow.org/guide/function#controlling_retracing and https://www.tensorflow.org/api_docs/python/tf/function for  more details.\n",
            "(32, 10, 64)\n",
            "input array dimensions ->  (32, 10)\n"
          ],
          "name": "stdout"
        }
      ]
    },
    {
      "cell_type": "markdown",
      "metadata": {
        "id": "tRHh7_h5S9n5"
      },
      "source": [
        "#Arguments\n",
        "-> input_dim: Integer. Size of the vocabulary, i.e. maximum integer index + 1.\n",
        "\n",
        "-> output_dim: Integer. Dimension of the dense embedding.\n",
        "\n",
        "***-> mask_zero: Boolean, whether or not the input value 0 is a special \"padding\" value that should be masked out. This is useful when using recurrent layers which may take variable length input. If this is True, then all subsequent layers in the model need to support masking or an exception will be raised. If mask_zero is set to True, as a consequence, index 0 cannot be used in the vocabulary (input_dim should equal size of vocabulary + 1). ***\n",
        "\n",
        "-> input_length: Length of input sequences, when it is constant. This argument is required if you are going to connect Flatten then Dense layers upstream (without it, the shape of the dense outputs cannot be computed)."
      ]
    },
    {
      "cell_type": "markdown",
      "metadata": {
        "id": "jxcjk7HfT6st"
      },
      "source": [
        "# Masking layer\n",
        "\n",
        "Masks a sequence by using a mask value to skip timesteps.\n",
        "\n",
        "For each timestep in the input tensor (dimension #1 in the tensor), if all values in the input tensor at that timestep are equal to mask_value, then the timestep will be masked (skipped) in all downstream layers (as long as they support masking)"
      ]
    },
    {
      "cell_type": "code",
      "metadata": {
        "id": "NcTppioWLM8b"
      },
      "source": [
        "# Example\n",
        "\n",
        "# Consider a Numpy data array x of shape (samples, timesteps, features), \n",
        "# to be fed to an LSTM layer. You want to mask timestep #3 and #5 because you lack data for these timesteps. You can:\n",
        "\n",
        "# Set x[:, 3, :] = 0. and x[:, 5, :] = 0.\n",
        "# Insert a Masking layer with mask_value=0. before the LSTM layer:"
      ],
      "execution_count": null,
      "outputs": []
    },
    {
      "cell_type": "code",
      "metadata": {
        "colab": {
          "base_uri": "https://localhost:8080/"
        },
        "id": "vuSL7uuiRrfC",
        "outputId": "a42e4b7d-b6af-487f-a096-c23e3a43ecb5"
      },
      "source": [
        "samples, timesteps, features = 32, 10, 8\n",
        "inputs = np.random.random([samples, timesteps, features]).astype(np.float32)\n",
        "inputs[:, 3, :] = 0.\n",
        "inputs[:, 5, :] = 0.\n",
        "inputs"
      ],
      "execution_count": 30,
      "outputs": [
        {
          "output_type": "execute_result",
          "data": {
            "text/plain": [
              "array([[[0.59591156, 0.88116795, 0.7609291 , ..., 0.11478593,\n",
              "         0.9330485 , 0.3056928 ],\n",
              "        [0.08451574, 0.33794594, 0.7575805 , ..., 0.70054513,\n",
              "         0.03466363, 0.09094615],\n",
              "        [0.99190325, 0.02921164, 0.66099215, ..., 0.56759477,\n",
              "         0.48072207, 0.99193794],\n",
              "        ...,\n",
              "        [0.4154992 , 0.06813708, 0.7737527 , ..., 0.9355936 ,\n",
              "         0.6726604 , 0.7730131 ],\n",
              "        [0.7193998 , 0.6028407 , 0.39955363, ..., 0.3814417 ,\n",
              "         0.82597643, 0.86964154],\n",
              "        [0.8045173 , 0.48799813, 0.5330106 , ..., 0.66298765,\n",
              "         0.1559711 , 0.44885594]],\n",
              "\n",
              "       [[0.48693165, 0.658324  , 0.70402247, ..., 0.88048965,\n",
              "         0.18301614, 0.6440277 ],\n",
              "        [0.49439332, 0.36004102, 0.07901258, ..., 0.3553965 ,\n",
              "         0.96678525, 0.18361962],\n",
              "        [0.82234263, 0.67084736, 0.43819538, ..., 0.70725137,\n",
              "         0.20798983, 0.5685851 ],\n",
              "        ...,\n",
              "        [0.35754246, 0.3730987 , 0.5555194 , ..., 0.24716671,\n",
              "         0.2728555 , 0.03200306],\n",
              "        [0.858208  , 0.16741298, 0.53561276, ..., 0.26376125,\n",
              "         0.974992  , 0.4092614 ],\n",
              "        [0.11464335, 0.5749699 , 0.49470922, ..., 0.17827262,\n",
              "         0.8289785 , 0.60299885]],\n",
              "\n",
              "       [[0.7282557 , 0.95308805, 0.938831  , ..., 0.8914605 ,\n",
              "         0.69747174, 0.06733718],\n",
              "        [0.518127  , 0.5137409 , 0.63369846, ..., 0.18571948,\n",
              "         0.7160736 , 0.75415105],\n",
              "        [0.35930076, 0.02516789, 0.3495363 , ..., 0.71255773,\n",
              "         0.4432706 , 0.9323178 ],\n",
              "        ...,\n",
              "        [0.80070186, 0.08358204, 0.32863536, ..., 0.83312905,\n",
              "         0.21223614, 0.23451652],\n",
              "        [0.7896639 , 0.00252199, 0.58957726, ..., 0.6469386 ,\n",
              "         0.66204816, 0.14486383],\n",
              "        [0.41895297, 0.02956021, 0.6074699 , ..., 0.9777839 ,\n",
              "         0.91505677, 0.19422586]],\n",
              "\n",
              "       ...,\n",
              "\n",
              "       [[0.21761559, 0.85175806, 0.48268983, ..., 0.01329414,\n",
              "         0.13536905, 0.21755975],\n",
              "        [0.26542583, 0.9506374 , 0.6710456 , ..., 0.11576839,\n",
              "         0.05966956, 0.03803265],\n",
              "        [0.6803919 , 0.77422756, 0.5766676 , ..., 0.7368335 ,\n",
              "         0.7575994 , 0.36351198],\n",
              "        ...,\n",
              "        [0.46370456, 0.8442744 , 0.90589404, ..., 0.08492548,\n",
              "         0.3127503 , 0.45357203],\n",
              "        [0.73471475, 0.9406261 , 0.15521826, ..., 0.34149498,\n",
              "         0.7188301 , 0.9480247 ],\n",
              "        [0.77434057, 0.9941325 , 0.5287516 , ..., 0.01436493,\n",
              "         0.7488401 , 0.45095274]],\n",
              "\n",
              "       [[0.5422113 , 0.4001494 , 0.44103542, ..., 0.5286498 ,\n",
              "         0.40795437, 0.40098223],\n",
              "        [0.62221295, 0.1766997 , 0.5843054 , ..., 0.9158635 ,\n",
              "         0.996203  , 0.46305886],\n",
              "        [0.0244335 , 0.57098806, 0.07795047, ..., 0.06867919,\n",
              "         0.5261272 , 0.24146287],\n",
              "        ...,\n",
              "        [0.5027325 , 0.98292017, 0.10439778, ..., 0.6136199 ,\n",
              "         0.37854862, 0.9544718 ],\n",
              "        [0.7318071 , 0.2618943 , 0.18977493, ..., 0.10814813,\n",
              "         0.07191992, 0.80533063],\n",
              "        [0.7977648 , 0.11128793, 0.8146443 , ..., 0.24992764,\n",
              "         0.54478014, 0.15622395]],\n",
              "\n",
              "       [[0.06294031, 0.8482715 , 0.70514023, ..., 0.89560246,\n",
              "         0.22438994, 0.81167966],\n",
              "        [0.3169453 , 0.02145024, 0.21147776, ..., 0.52973443,\n",
              "         0.80397123, 0.1191871 ],\n",
              "        [0.2832211 , 0.7067829 , 0.28376952, ..., 0.7702668 ,\n",
              "         0.2137226 , 0.2544176 ],\n",
              "        ...,\n",
              "        [0.4041449 , 0.5975447 , 0.45162886, ..., 0.7959512 ,\n",
              "         0.02529041, 0.42462823],\n",
              "        [0.729969  , 0.6016304 , 0.32492995, ..., 0.42150843,\n",
              "         0.98039335, 0.71616846],\n",
              "        [0.5304579 , 0.5559812 , 0.8205515 , ..., 0.57793504,\n",
              "         0.11049296, 0.05290152]]], dtype=float32)"
            ]
          },
          "metadata": {
            "tags": []
          },
          "execution_count": 30
        }
      ]
    },
    {
      "cell_type": "code",
      "metadata": {
        "colab": {
          "base_uri": "https://localhost:8080/"
        },
        "id": "v3j79WvvRriL",
        "outputId": "30e93c90-d113-4775-feb1-a2893b8a8eef"
      },
      "source": [
        "model = tf.keras.models.Sequential()\n",
        "model.add(tf.keras.layers.Masking(mask_value=0.,\n",
        "                                  input_shape=(timesteps, features)))\n",
        "model.add(tf.keras.layers.LSTM(32))\n",
        "\n",
        "output = model(inputs)\n",
        "# The time step 3 and 5 will be skipped from LSTM calculation.\n",
        "output"
      ],
      "execution_count": 32,
      "outputs": [
        {
          "output_type": "execute_result",
          "data": {
            "text/plain": [
              "<tf.Tensor: shape=(32, 32), dtype=float32, numpy=\n",
              "array([[-0.18955871,  0.12734349, -0.07593946, ..., -0.06956165,\n",
              "        -0.2630131 ,  0.11908954],\n",
              "       [-0.1654792 ,  0.12348639, -0.1102455 , ..., -0.12077325,\n",
              "        -0.24189365,  0.18053201],\n",
              "       [-0.2271414 ,  0.1432215 , -0.05458968, ..., -0.08862986,\n",
              "        -0.28669575,  0.12599826],\n",
              "       ...,\n",
              "       [-0.18628265,  0.16464733, -0.18464929, ..., -0.06525225,\n",
              "        -0.23196574,  0.20036514],\n",
              "       [-0.1717564 ,  0.13177858, -0.10336638, ..., -0.09505646,\n",
              "        -0.24371621,  0.12370992],\n",
              "       [-0.23107548,  0.14572197, -0.1209733 , ..., -0.02814048,\n",
              "        -0.1969112 ,  0.16793513]], dtype=float32)>"
            ]
          },
          "metadata": {
            "tags": []
          },
          "execution_count": 32
        }
      ]
    },
    {
      "cell_type": "code",
      "metadata": {
        "id": "eQ6pCf_qT41i"
      },
      "source": [
        ""
      ],
      "execution_count": null,
      "outputs": []
    },
    {
      "cell_type": "code",
      "metadata": {
        "id": "tYZhy4UrRrmV"
      },
      "source": [
        ""
      ],
      "execution_count": null,
      "outputs": []
    },
    {
      "cell_type": "code",
      "metadata": {
        "id": "CudoPl1SLM_X"
      },
      "source": [
        ""
      ],
      "execution_count": null,
      "outputs": []
    },
    {
      "cell_type": "code",
      "metadata": {
        "id": "hax903ncQsJd"
      },
      "source": [
        ""
      ],
      "execution_count": null,
      "outputs": []
    },
    {
      "cell_type": "code",
      "metadata": {
        "id": "GYt9bzF8QsL_"
      },
      "source": [
        ""
      ],
      "execution_count": null,
      "outputs": []
    },
    {
      "cell_type": "code",
      "metadata": {
        "id": "a-1ySKDXQsPG"
      },
      "source": [
        ""
      ],
      "execution_count": null,
      "outputs": []
    },
    {
      "cell_type": "code",
      "metadata": {
        "id": "d4VB82nJLNBw"
      },
      "source": [
        ""
      ],
      "execution_count": null,
      "outputs": []
    },
    {
      "cell_type": "code",
      "metadata": {
        "id": "bvnbsSdALND8"
      },
      "source": [
        ""
      ],
      "execution_count": null,
      "outputs": []
    },
    {
      "cell_type": "code",
      "metadata": {
        "id": "MKS-NUoNLNGc"
      },
      "source": [
        ""
      ],
      "execution_count": null,
      "outputs": []
    },
    {
      "cell_type": "code",
      "metadata": {
        "id": "698YchxtLNJQ"
      },
      "source": [
        ""
      ],
      "execution_count": null,
      "outputs": []
    },
    {
      "cell_type": "code",
      "metadata": {
        "id": "519YT0CBLNL2"
      },
      "source": [
        ""
      ],
      "execution_count": null,
      "outputs": []
    },
    {
      "cell_type": "code",
      "metadata": {
        "id": "UCAhFY6pLNOX"
      },
      "source": [
        ""
      ],
      "execution_count": null,
      "outputs": []
    }
  ]
}
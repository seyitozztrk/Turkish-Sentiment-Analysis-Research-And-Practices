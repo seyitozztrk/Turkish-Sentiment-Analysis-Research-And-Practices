{
  "nbformat": 4,
  "nbformat_minor": 0,
  "metadata": {
    "accelerator": "TPU",
    "colab": {
      "name": "lstm_RNN.ipynb",
      "provenance": [],
      "collapsed_sections": []
    },
    "kernelspec": {
      "display_name": "Python 3",
      "language": "python",
      "name": "python3"
    },
    "language_info": {
      "codemirror_mode": {
        "name": "ipython",
        "version": 3
      },
      "file_extension": ".py",
      "mimetype": "text/x-python",
      "name": "python",
      "nbconvert_exporter": "python",
      "pygments_lexer": "ipython3",
      "version": "3.8.6"
    }
  },
  "cells": [
    {
      "cell_type": "code",
      "metadata": {
        "colab": {
          "base_uri": "https://localhost:8080/"
        },
        "id": "ng8x6RnrrKpn",
        "outputId": "87029b95-db34-4f03-ec67-697f9a25c2a0"
      },
      "source": [
        "#connection drive\n",
        "from google.colab import drive\n",
        "drive.mount('/content/drive')\n",
        "!pip3 install TurkishStemmer"
      ],
      "execution_count": 1,
      "outputs": [
        {
          "output_type": "stream",
          "text": [
            "Mounted at /content/drive\n",
            "Collecting TurkishStemmer\n",
            "  Downloading https://files.pythonhosted.org/packages/fd/bf/3e56dd4ce442f9237e1c202ce736ae5e5818d74f81604f1665e67736cfc0/TurkishStemmer-1.3-py3-none-any.whl\n",
            "Installing collected packages: TurkishStemmer\n",
            "Successfully installed TurkishStemmer-1.3\n"
          ],
          "name": "stdout"
        }
      ]
    },
    {
      "cell_type": "code",
      "metadata": {
        "id": "5oWaUc5nsugk"
      },
      "source": [
        "from myfiles.utils import utils"
      ],
      "execution_count": 3,
      "outputs": []
    },
    {
      "cell_type": "markdown",
      "metadata": {
        "id": "eh-5XBNk04H2"
      },
      "source": [
        ""
      ]
    },
    {
      "cell_type": "code",
      "metadata": {
        "colab": {
          "base_uri": "https://localhost:8080/"
        },
        "id": "1bSAjgK8x7jY",
        "outputId": "1706779d-7904-4b84-f31a-c58ff9fdcc0c"
      },
      "source": [
        "X,y = utils.getXyData()"
      ],
      "execution_count": 4,
      "outputs": [
        {
          "output_type": "stream",
          "text": [
            "[nltk_data] Downloading package stopwords to /root/nltk_data...\n",
            "[nltk_data]   Unzipping corpora/stopwords.zip.\n",
            "init\n"
          ],
          "name": "stdout"
        }
      ]
    },
    {
      "cell_type": "code",
      "metadata": {
        "colab": {
          "base_uri": "https://localhost:8080/"
        },
        "id": "WKsw7ojW84UG",
        "outputId": "3c84b999-1d82-4acf-f0fa-9f8b458edbca"
      },
      "source": [
        "type(y)"
      ],
      "execution_count": 4,
      "outputs": [
        {
          "output_type": "execute_result",
          "data": {
            "text/plain": [
              "numpy.ndarray"
            ]
          },
          "metadata": {
            "tags": []
          },
          "execution_count": 4
        }
      ]
    },
    {
      "cell_type": "code",
      "metadata": {
        "id": "imAJcY8Sq9Ac",
        "scrolled": true,
        "colab": {
          "base_uri": "https://localhost:8080/"
        },
        "outputId": "52292a7c-07a5-4bb5-d4bd-acd50c9dec7a"
      },
      "source": [
        "\n",
        "\n",
        "from keras.preprocessing.text import Tokenizer \n",
        "from keras.preprocessing.sequence import pad_sequences \n",
        "\n",
        "import numpy as np \n",
        "\n",
        "training_samples = 170000          # Trains on 200 samples\n",
        "validation_samples = 30000     # Validates on 10,000 samples\n",
        "test_samples = 34000\n",
        "\n",
        "maxlen = 50                   # Cuts off reviews after 100 words\n",
        "max_words = 30000              # Considers only the top 10,000 words in the dataset\n",
        "\n",
        "tokenizer = Tokenizer(num_words = max_words)\n",
        "tokenizer.fit_on_texts(X)\n",
        "sequences = tokenizer.texts_to_sequences(X)\n",
        "word_index = tokenizer.word_index\n",
        "print('Found %s unique tokens.' % len(word_index))"
      ],
      "execution_count": 5,
      "outputs": [
        {
          "output_type": "stream",
          "text": [
            "Found 101600 unique tokens.\n"
          ],
          "name": "stdout"
        }
      ]
    },
    {
      "cell_type": "code",
      "metadata": {
        "id": "_D1dLvPSq9Ad"
      },
      "source": [
        "# for (review,label) in zip(sequences, y):\n",
        "#     print(review , label)"
      ],
      "execution_count": null,
      "outputs": []
    },
    {
      "cell_type": "code",
      "metadata": {
        "colab": {
          "base_uri": "https://localhost:8080/"
        },
        "id": "_UM--BQEq9Ae",
        "outputId": "bdac82c4-45bb-4b23-a920-c6bb248eaf2a"
      },
      "source": [
        "len(word_index)"
      ],
      "execution_count": null,
      "outputs": [
        {
          "output_type": "execute_result",
          "data": {
            "text/plain": [
              "101600"
            ]
          },
          "metadata": {
            "tags": []
          },
          "execution_count": 8
        }
      ]
    },
    {
      "cell_type": "code",
      "metadata": {
        "colab": {
          "base_uri": "https://localhost:8080/"
        },
        "id": "GBQitEYoq9Ae",
        "outputId": "3e89b118-3c38-4b51-df83-58edbe3ea62d"
      },
      "source": [
        "x = pad_sequences(sequences, maxlen=maxlen)\n",
        "\n",
        "y = np.asarray(y)\n",
        "print('Shape of data tensor:', x.shape)\n",
        "print('Shape of label tensor:', y.shape) "
      ],
      "execution_count": 6,
      "outputs": [
        {
          "output_type": "stream",
          "text": [
            "Shape of data tensor: (234623, 50)\n",
            "Shape of label tensor: (234623,)\n"
          ],
          "name": "stdout"
        }
      ]
    },
    {
      "cell_type": "code",
      "metadata": {
        "id": "AbHlXSvoq9Af"
      },
      "source": [
        "def splitKFoldStratified(X, y):\n",
        "        from sklearn.model_selection import StratifiedKFold\n",
        "        \n",
        "        kfold = StratifiedKFold(n_splits=5, shuffle=True, random_state=1)\n",
        "        \n",
        "        Xtrain_array = []\n",
        "        Xtest_array = []\n",
        "        Ytrain_array = []\n",
        "        Ytest_array = []\n",
        "        \n",
        "        k_fold = 0 \n",
        "        \n",
        "        for train_ix, test_ix in kfold.split(X, y):\n",
        "            k_fold+=1\n",
        "            # select rows\n",
        "            xtrain, xtest = X[train_ix], X[test_ix]\n",
        "            ytrain, ytest = y[train_ix], y[test_ix]\n",
        "            \n",
        "            Xtrain_array.append(xtrain)\n",
        "            Xtest_array.append(xtest)\n",
        "            Ytrain_array.append(ytrain)\n",
        "            Ytest_array.append(ytest)\n",
        "            \n",
        "            # summarize train and test composition\n",
        "            train_0, train_1 = len(ytrain[ytrain==0]), len(ytrain[ytrain==1])\n",
        "            test_0, test_1 = len(ytest[ytest==0]), len(ytest[ytest==1])\n",
        "            print('>Train: 0=%d, 1=%d, Test: 0=%d, 1=%d' % (train_0, train_1, test_0, test_1))\n",
        "        \n",
        "        \n",
        "        return [Xtrain_array, Xtest_array, Ytrain_array, Ytest_array]"
      ],
      "execution_count": 7,
      "outputs": []
    },
    {
      "cell_type": "code",
      "metadata": {
        "colab": {
          "base_uri": "https://localhost:8080/"
        },
        "id": "qTaS4hOBq9Ag",
        "outputId": "eebfb981-1621-40c4-9c18-eacc807691e2"
      },
      "source": [
        "y.shape\n",
        "x.shape"
      ],
      "execution_count": 8,
      "outputs": [
        {
          "output_type": "execute_result",
          "data": {
            "text/plain": [
              "(234623, 50)"
            ]
          },
          "metadata": {
            "tags": []
          },
          "execution_count": 8
        }
      ]
    },
    {
      "cell_type": "code",
      "metadata": {
        "colab": {
          "base_uri": "https://localhost:8080/"
        },
        "id": "CnekDcBwq9Ag",
        "scrolled": true,
        "outputId": "0e7a4d53-8a33-42ae-8b4e-9e3266f17231"
      },
      "source": [
        "a = splitKFoldStratified(x,y)"
      ],
      "execution_count": 8,
      "outputs": [
        {
          "output_type": "stream",
          "text": [
            ">Train: 0=11903, 1=175795, Test: 0=2976, 1=43949\n",
            ">Train: 0=11903, 1=175795, Test: 0=2976, 1=43949\n",
            ">Train: 0=11903, 1=175795, Test: 0=2976, 1=43949\n",
            ">Train: 0=11903, 1=175796, Test: 0=2976, 1=43948\n",
            ">Train: 0=11904, 1=175795, Test: 0=2975, 1=43949\n"
          ],
          "name": "stdout"
        }
      ]
    },
    {
      "cell_type": "code",
      "metadata": {
        "id": "h-JgjGZhq9Ah",
        "outputId": "c4147bfb-8bba-48cd-e175-5eb770f8ae8d"
      },
      "source": [
        "len(a[2][0])"
      ],
      "execution_count": null,
      "outputs": [
        {
          "output_type": "execute_result",
          "data": {
            "text/plain": [
              "211160"
            ]
          },
          "metadata": {
            "tags": []
          },
          "execution_count": 10
        }
      ]
    },
    {
      "cell_type": "code",
      "metadata": {
        "colab": {
          "base_uri": "https://localhost:8080/"
        },
        "id": "C-3EA4JYq9Ah",
        "outputId": "fcbf845e-733d-4cd3-cc9e-33b7bda9619f"
      },
      "source": [
        "len(word_index)"
      ],
      "execution_count": null,
      "outputs": [
        {
          "output_type": "execute_result",
          "data": {
            "text/plain": [
              "101600"
            ]
          },
          "metadata": {
            "tags": []
          },
          "execution_count": 14
        }
      ]
    },
    {
      "cell_type": "code",
      "metadata": {
        "id": "Qdp6lnclq9Ai"
      },
      "source": [
        "#?????\n",
        "def embedding_matrix_trmodeljune():\n",
        "    \n",
        "    from gensim.models import KeyedVectors\n",
        "    word_vectors = KeyedVectors.load_word2vec_format('/content/drive/MyDrive/Word2Vec/trmodel', binary=True)\n",
        "\n",
        "    unique_words = len(word_index)\n",
        "    total_words = unique_words + 1\n",
        "    print(total_words)\n",
        "    skipped_words = 0\n",
        "    embedding_dim = 400  \n",
        "    embedding_matrix = np.zeros((total_words, embedding_dim))\n",
        "    embedding_vector = None\n",
        "    \n",
        "    for word, index in tokenizer.word_index.items():\n",
        "        try:\n",
        "            embedding_vector = word_vectors[word]\n",
        "        except:\n",
        "            skipped_words = skipped_words+1\n",
        "            pass\n",
        "        if embedding_vector is not None:\n",
        "            embedding_matrix[index] = embedding_vector\n",
        "    print(\"Embeddings Matrix shape : \",embedding_matrix.shape)\n",
        "    return embedding_matrix"
      ],
      "execution_count": 10,
      "outputs": []
    },
    {
      "cell_type": "code",
      "metadata": {
        "id": "xQMfggg5q9Ai"
      },
      "source": [
        "def embedding_matrix_1():\n",
        "    \n",
        "    from gensim.models import KeyedVectors\n",
        "    word_vectors = KeyedVectors.load_word2vec_format('/content/drive/MyDrive/Word2Vec/trmodel', binary=True)\n",
        "\n",
        "    unique_words = len(word_index)\n",
        "    total_words = unique_words + 1\n",
        "    print(total_words)\n",
        "    skipped_words = 0\n",
        "    embedding_dim = 400  \n",
        "    embedding_matrix = np.zeros((total_words, embedding_dim))\n",
        "    embedding_vector = None\n",
        "    \n",
        "    for word, index in tokenizer.word_index.items():\n",
        "        try:\n",
        "            embedding_vector = word_vectors[word]\n",
        "        except:\n",
        "            skipped_words = skipped_words+1\n",
        "            pass\n",
        "        if embedding_vector is not None:\n",
        "            embedding_matrix[index] = embedding_vector\n",
        "    print(\"Embeddings Matrix shape : \",embedding_matrix.shape)\n",
        "    return embedding_matrix"
      ],
      "execution_count": 19,
      "outputs": []
    },
    {
      "cell_type": "code",
      "metadata": {
        "id": "l2v3wP7zq9Aj",
        "scrolled": true
      },
      "source": [
        "def embedding_matrix_2():    \n",
        "    import os \n",
        "    import numpy as np\n",
        "\n",
        "    glove_dir = '/content/drive/MyDrive/lstmWorks/'\n",
        "\n",
        "    embeddings_index_1 = {}\n",
        "    f = open(os.path.join(glove_dir, 'vectors.txt'))\n",
        "    for line in f:\n",
        "        values = line.split()\n",
        "        word = values[0]\n",
        "    #     print(len(word))\n",
        "        coefs = np.asarray(values[1:], dtype='float32')\n",
        "        embeddings_index_1[word] = coefs\n",
        "\n",
        "    f.close()\n",
        "    print('Found %s word vectors.' % len(embeddings_index_1))\n",
        "    # be careful after from this line\n",
        "    embedding_dim = 300\n",
        "    print(max_words)\n",
        "    \n",
        "    # unique_words = len(word_index)\n",
        "    # total_words = unique_words + 1\n",
        "    print()\n",
        "    \n",
        "    embedding_matrix = np.zeros((max_words, embedding_dim))\n",
        "    \n",
        "   \n",
        "    \n",
        "    for word, i in tokenizer.word_index.items():\n",
        "        if i < max_words:\n",
        "            embedding_vector = embeddings_index_1.get(word)\n",
        "            if embedding_vector is not None:\n",
        "                embedding_matrix[i] = embedding_vector\n",
        "\n",
        "    return embedding_matrix"
      ],
      "execution_count": 9,
      "outputs": []
    },
    {
      "cell_type": "code",
      "metadata": {
        "colab": {
          "base_uri": "https://localhost:8080/"
        },
        "id": "n-_yWHJbq9Ak",
        "outputId": "46670ed5-26ad-4ff8-d049-9c7603e52f3e"
      },
      "source": [
        "embedding_matrix = embedding_matrix_1()"
      ],
      "execution_count": 12,
      "outputs": [
        {
          "output_type": "stream",
          "text": [
            "101601\n",
            "Embeddings Matrix shape :  (101601, 400)\n"
          ],
          "name": "stdout"
        }
      ]
    },
    {
      "cell_type": "code",
      "metadata": {
        "colab": {
          "base_uri": "https://localhost:8080/"
        },
        "id": "x0k1ZFmsq9Al",
        "outputId": "b6237fdf-8493-45b4-a986-dbd0dd20333a"
      },
      "source": [
        "embedding_matrix"
      ],
      "execution_count": null,
      "outputs": [
        {
          "output_type": "execute_result",
          "data": {
            "text/plain": [
              "array([[ 0.        ,  0.        ,  0.        , ...,  0.        ,\n",
              "         0.        ,  0.        ],\n",
              "       [ 1.90907228, -0.77570266, -0.69637978, ...,  0.95020956,\n",
              "        -0.55103862, -1.73275089],\n",
              "       [ 0.51016784, -0.4183571 , -1.77249575, ...,  1.67167985,\n",
              "         0.35844764, -0.11615919],\n",
              "       ...,\n",
              "       [ 0.00722535, -0.12378334,  0.0980953 , ...,  0.0494529 ,\n",
              "        -0.07154707, -0.03811685],\n",
              "       [ 0.00722535, -0.12378334,  0.0980953 , ...,  0.0494529 ,\n",
              "        -0.07154707, -0.03811685],\n",
              "       [ 0.00722535, -0.12378334,  0.0980953 , ...,  0.0494529 ,\n",
              "        -0.07154707, -0.03811685]])"
            ]
          },
          "metadata": {
            "tags": []
          },
          "execution_count": 17
        }
      ]
    },
    {
      "cell_type": "code",
      "metadata": {
        "id": "Vep4j3zqq9Al"
      },
      "source": [
        "# Now, let’s display the training and validation loss and accuracy\n",
        "\n",
        "# Plotting results\n",
        "def vizualize_loss_acc(history):\n",
        "    \n",
        "    import matplotlib.pyplot as plt\n",
        "\n",
        "    acc = history.history['acc']\n",
        "#     val_acc = history.history['val_acc']\n",
        "    loss = history.history['loss']\n",
        "#     val_loss = history.history['val_loss']\n",
        "\n",
        "    epochs = range(1, len(acc) + 1)\n",
        "\n",
        "    plt.plot(epochs, acc, 'bo', label='Training acc')\n",
        "#     plt.plot(epochs, val_acc, 'b', label='Validation acc')\n",
        "\n",
        "    plt.title('Training and validation accuracy')\n",
        "    plt.legend()\n",
        "    plt.figure()\n",
        "\n",
        "    # *******************************************************************\n",
        "    plt.plot(epochs, loss, 'bo', label='Training loss')\n",
        "#     plt.plot(epochs, val_loss, 'b', label='Validation loss')\n",
        "    plt.title('Training and validation loss')\n",
        "    plt.legend()\n",
        "    plt.show()"
      ],
      "execution_count": 10,
      "outputs": []
    },
    {
      "cell_type": "code",
      "metadata": {
        "colab": {
          "base_uri": "https://localhost:8080/"
        },
        "id": "06WfFrgOU7k8",
        "outputId": "4387c063-ddce-4c26-c88b-319449dc4987"
      },
      "source": [
        "%tensorflow_version 2.x\n",
        "import tensorflow as tf\n",
        "print(\"Tensorflow version \" + tf.__version__)\n",
        "\n",
        "try:\n",
        "  tpu = tf.distribute.cluster_resolver.TPUClusterResolver()  # TPU detection\n",
        "  print('Running on TPU ', tpu.cluster_spec().as_dict()['worker'])\n",
        "except ValueError:\n",
        "  raise BaseException('ERROR: Not connected to a TPU runtime; please see the previous cell in this notebook for instructions!')\n",
        "\n",
        "tf.config.experimental_connect_to_cluster(tpu)\n",
        "tf.tpu.experimental.initialize_tpu_system(tpu)\n",
        "tpu_strategy = tf.distribute.experimental.TPUStrategy(tpu)"
      ],
      "execution_count": 12,
      "outputs": [
        {
          "output_type": "stream",
          "text": [
            "Tensorflow version 2.4.1\n",
            "Running on TPU  ['10.88.254.218:8470']\n",
            "INFO:tensorflow:Initializing the TPU system: grpc://10.88.254.218:8470\n"
          ],
          "name": "stdout"
        },
        {
          "output_type": "stream",
          "text": [
            "INFO:tensorflow:Initializing the TPU system: grpc://10.88.254.218:8470\n"
          ],
          "name": "stderr"
        },
        {
          "output_type": "stream",
          "text": [
            "INFO:tensorflow:Clearing out eager caches\n"
          ],
          "name": "stdout"
        },
        {
          "output_type": "stream",
          "text": [
            "INFO:tensorflow:Clearing out eager caches\n"
          ],
          "name": "stderr"
        },
        {
          "output_type": "stream",
          "text": [
            "INFO:tensorflow:Finished initializing TPU system.\n"
          ],
          "name": "stdout"
        },
        {
          "output_type": "stream",
          "text": [
            "INFO:tensorflow:Finished initializing TPU system.\n",
            "WARNING:absl:`tf.distribute.experimental.TPUStrategy` is deprecated, please use  the non experimental symbol `tf.distribute.TPUStrategy` instead.\n"
          ],
          "name": "stderr"
        },
        {
          "output_type": "stream",
          "text": [
            "INFO:tensorflow:Found TPU system:\n"
          ],
          "name": "stdout"
        },
        {
          "output_type": "stream",
          "text": [
            "INFO:tensorflow:Found TPU system:\n"
          ],
          "name": "stderr"
        },
        {
          "output_type": "stream",
          "text": [
            "INFO:tensorflow:*** Num TPU Cores: 8\n"
          ],
          "name": "stdout"
        },
        {
          "output_type": "stream",
          "text": [
            "INFO:tensorflow:*** Num TPU Cores: 8\n"
          ],
          "name": "stderr"
        },
        {
          "output_type": "stream",
          "text": [
            "INFO:tensorflow:*** Num TPU Workers: 1\n"
          ],
          "name": "stdout"
        },
        {
          "output_type": "stream",
          "text": [
            "INFO:tensorflow:*** Num TPU Workers: 1\n"
          ],
          "name": "stderr"
        },
        {
          "output_type": "stream",
          "text": [
            "INFO:tensorflow:*** Num TPU Cores Per Worker: 8\n"
          ],
          "name": "stdout"
        },
        {
          "output_type": "stream",
          "text": [
            "INFO:tensorflow:*** Num TPU Cores Per Worker: 8\n"
          ],
          "name": "stderr"
        },
        {
          "output_type": "stream",
          "text": [
            "INFO:tensorflow:*** Available Device: _DeviceAttributes(/job:localhost/replica:0/task:0/device:CPU:0, CPU, 0, 0)\n"
          ],
          "name": "stdout"
        },
        {
          "output_type": "stream",
          "text": [
            "INFO:tensorflow:*** Available Device: _DeviceAttributes(/job:localhost/replica:0/task:0/device:CPU:0, CPU, 0, 0)\n"
          ],
          "name": "stderr"
        },
        {
          "output_type": "stream",
          "text": [
            "INFO:tensorflow:*** Available Device: _DeviceAttributes(/job:worker/replica:0/task:0/device:CPU:0, CPU, 0, 0)\n"
          ],
          "name": "stdout"
        },
        {
          "output_type": "stream",
          "text": [
            "INFO:tensorflow:*** Available Device: _DeviceAttributes(/job:worker/replica:0/task:0/device:CPU:0, CPU, 0, 0)\n"
          ],
          "name": "stderr"
        },
        {
          "output_type": "stream",
          "text": [
            "INFO:tensorflow:*** Available Device: _DeviceAttributes(/job:worker/replica:0/task:0/device:TPU:0, TPU, 0, 0)\n"
          ],
          "name": "stdout"
        },
        {
          "output_type": "stream",
          "text": [
            "INFO:tensorflow:*** Available Device: _DeviceAttributes(/job:worker/replica:0/task:0/device:TPU:0, TPU, 0, 0)\n"
          ],
          "name": "stderr"
        },
        {
          "output_type": "stream",
          "text": [
            "INFO:tensorflow:*** Available Device: _DeviceAttributes(/job:worker/replica:0/task:0/device:TPU:1, TPU, 0, 0)\n"
          ],
          "name": "stdout"
        },
        {
          "output_type": "stream",
          "text": [
            "INFO:tensorflow:*** Available Device: _DeviceAttributes(/job:worker/replica:0/task:0/device:TPU:1, TPU, 0, 0)\n"
          ],
          "name": "stderr"
        },
        {
          "output_type": "stream",
          "text": [
            "INFO:tensorflow:*** Available Device: _DeviceAttributes(/job:worker/replica:0/task:0/device:TPU:2, TPU, 0, 0)\n"
          ],
          "name": "stdout"
        },
        {
          "output_type": "stream",
          "text": [
            "INFO:tensorflow:*** Available Device: _DeviceAttributes(/job:worker/replica:0/task:0/device:TPU:2, TPU, 0, 0)\n"
          ],
          "name": "stderr"
        },
        {
          "output_type": "stream",
          "text": [
            "INFO:tensorflow:*** Available Device: _DeviceAttributes(/job:worker/replica:0/task:0/device:TPU:3, TPU, 0, 0)\n"
          ],
          "name": "stdout"
        },
        {
          "output_type": "stream",
          "text": [
            "INFO:tensorflow:*** Available Device: _DeviceAttributes(/job:worker/replica:0/task:0/device:TPU:3, TPU, 0, 0)\n"
          ],
          "name": "stderr"
        },
        {
          "output_type": "stream",
          "text": [
            "INFO:tensorflow:*** Available Device: _DeviceAttributes(/job:worker/replica:0/task:0/device:TPU:4, TPU, 0, 0)\n"
          ],
          "name": "stdout"
        },
        {
          "output_type": "stream",
          "text": [
            "INFO:tensorflow:*** Available Device: _DeviceAttributes(/job:worker/replica:0/task:0/device:TPU:4, TPU, 0, 0)\n"
          ],
          "name": "stderr"
        },
        {
          "output_type": "stream",
          "text": [
            "INFO:tensorflow:*** Available Device: _DeviceAttributes(/job:worker/replica:0/task:0/device:TPU:5, TPU, 0, 0)\n"
          ],
          "name": "stdout"
        },
        {
          "output_type": "stream",
          "text": [
            "INFO:tensorflow:*** Available Device: _DeviceAttributes(/job:worker/replica:0/task:0/device:TPU:5, TPU, 0, 0)\n"
          ],
          "name": "stderr"
        },
        {
          "output_type": "stream",
          "text": [
            "INFO:tensorflow:*** Available Device: _DeviceAttributes(/job:worker/replica:0/task:0/device:TPU:6, TPU, 0, 0)\n"
          ],
          "name": "stdout"
        },
        {
          "output_type": "stream",
          "text": [
            "INFO:tensorflow:*** Available Device: _DeviceAttributes(/job:worker/replica:0/task:0/device:TPU:6, TPU, 0, 0)\n"
          ],
          "name": "stderr"
        },
        {
          "output_type": "stream",
          "text": [
            "INFO:tensorflow:*** Available Device: _DeviceAttributes(/job:worker/replica:0/task:0/device:TPU:7, TPU, 0, 0)\n"
          ],
          "name": "stdout"
        },
        {
          "output_type": "stream",
          "text": [
            "INFO:tensorflow:*** Available Device: _DeviceAttributes(/job:worker/replica:0/task:0/device:TPU:7, TPU, 0, 0)\n"
          ],
          "name": "stderr"
        },
        {
          "output_type": "stream",
          "text": [
            "INFO:tensorflow:*** Available Device: _DeviceAttributes(/job:worker/replica:0/task:0/device:TPU_SYSTEM:0, TPU_SYSTEM, 0, 0)\n"
          ],
          "name": "stdout"
        },
        {
          "output_type": "stream",
          "text": [
            "INFO:tensorflow:*** Available Device: _DeviceAttributes(/job:worker/replica:0/task:0/device:TPU_SYSTEM:0, TPU_SYSTEM, 0, 0)\n"
          ],
          "name": "stderr"
        },
        {
          "output_type": "stream",
          "text": [
            "INFO:tensorflow:*** Available Device: _DeviceAttributes(/job:worker/replica:0/task:0/device:XLA_CPU:0, XLA_CPU, 0, 0)\n"
          ],
          "name": "stdout"
        },
        {
          "output_type": "stream",
          "text": [
            "INFO:tensorflow:*** Available Device: _DeviceAttributes(/job:worker/replica:0/task:0/device:XLA_CPU:0, XLA_CPU, 0, 0)\n"
          ],
          "name": "stderr"
        }
      ]
    },
    {
      "cell_type": "code",
      "metadata": {
        "id": "7hZUotEMvd4x"
      },
      "source": [
        "def makeNewModel(x_train, x_test, y_train, y_test,embedding_matrix,embedding_dim, total_words):\n",
        "\n",
        "    from keras.models import Sequential\n",
        "    from keras.layers import LSTM, Dense, Dropout, Masking, Embedding\n",
        "    \n",
        "    \n",
        "\n",
        "\n",
        "    model = Sequential()\n",
        "    model.add(Embedding(input_dim = total_words, input_length=maxlen, weights=[embedding_matrix],\n",
        "                        output_dim=embedding_dim , trainable=False, mask_zero=True))\n",
        "    # Masking layer for pre-trained embeddings\n",
        "    model.add(Masking(mask_value=0.0))\n",
        "\n",
        "\n",
        "    # Recurrent layer\n",
        "    model.add(LSTM(64, return_sequences=False, \n",
        "                   dropout=0.1, recurrent_dropout=0.1))\n",
        "\n",
        "    # Fully connected layer\n",
        "    model.add(Dense(64, activation='relu'))\n",
        "\n",
        "    # Dropout for regularization\n",
        "    model.add(Dropout(0.5))\n",
        "\n",
        "    # Output layer\n",
        "    model.add(Dense(1, activation='sigmoid'))\n",
        "\n",
        "    import keras\n",
        "\n",
        "    # model.add(SimpleRNN(32))\n",
        "    # model.add(Dense(1, activation='sigmoid'))\n",
        "    model.summary()\n",
        "\n",
        "    model.compile(optimizer=keras.optimizers.RMSprop(learning_rate=1e-3), loss='binary_crossentropy', metrics=['acc'])\n",
        "\n",
        "\n",
        "\n",
        "    history = model.fit(x_train, y_train,\n",
        "                            epochs=10,\n",
        "                            batch_size=128)\n",
        "    \n",
        "    print(\"*********************test***********************\")\n",
        "    print(model.evaluate(x_test, y_test))\n",
        "    print(\"---------------------vizualize---------------------\")\n",
        "    vizualize_loss_acc(history)"
      ],
      "execution_count": 39,
      "outputs": []
    },
    {
      "cell_type": "code",
      "metadata": {
        "colab": {
          "base_uri": "https://localhost:8080/"
        },
        "id": "NBnruey1q9An",
        "outputId": "5ab642a9-1c65-4d8c-91dd-b0df8c6295d3"
      },
      "source": [
        "\n",
        "# \n",
        "\n"
      ],
      "execution_count": 17,
      "outputs": [
        {
          "output_type": "stream",
          "text": [
            "101601\n",
            "Embeddings Matrix shape :  (101601, 400)\n"
          ],
          "name": "stdout"
        }
      ]
    },
    {
      "cell_type": "code",
      "metadata": {
        "colab": {
          "base_uri": "https://localhost:8080/"
        },
        "id": "O1-pGheeq9An",
        "outputId": "4e4d999d-5a56-4d7c-b224-3c18e8c92513"
      },
      "source": [
        "embeddingMatrix1.shape"
      ],
      "execution_count": 18,
      "outputs": [
        {
          "output_type": "execute_result",
          "data": {
            "text/plain": [
              "(101601, 400)"
            ]
          },
          "metadata": {
            "tags": []
          },
          "execution_count": 18
        }
      ]
    },
    {
      "cell_type": "code",
      "metadata": {
        "colab": {
          "base_uri": "https://localhost:8080/"
        },
        "id": "04F2nBvUwVtZ",
        "outputId": "b6acef11-0bd5-4fc4-8478-9153d229742a"
      },
      "source": [
        "embeddingMatrix2 = embedding_matrix_2()\n",
        "embeddingMatrix1 = embedding_matrix_1()\n"
      ],
      "execution_count": 25,
      "outputs": [
        {
          "output_type": "stream",
          "text": [
            "Found 253832 word vectors.\n",
            "30000\n",
            "\n",
            "101601\n",
            "Embeddings Matrix shape :  (101601, 400)\n"
          ],
          "name": "stdout"
        }
      ]
    },
    {
      "cell_type": "code",
      "metadata": {
        "colab": {
          "base_uri": "https://localhost:8080/",
          "height": 1000
        },
        "id": "C1NmkgWE8Die",
        "outputId": "ed839121-b9df-413a-bfe6-93d43aff4bca"
      },
      "source": [
        "for i in range(5):\n",
        "    x_train = a[0][i]\n",
        "    x_test = a[1][i]\n",
        "    y_train = a[2][i]\n",
        "    y_test = a[3][i]\n",
        "    with tpu_strategy.scope(): # creating the model in the TPUStrategy scope means we will train the model on the TPU\n",
        "      makeNewModel(x_train, x_test, y_train, y_test,embeddingMatrix2, 300, 30000)"
      ],
      "execution_count": 40,
      "outputs": [
        {
          "output_type": "stream",
          "text": [
            "Model: \"sequential_20\"\n",
            "_________________________________________________________________\n",
            "Layer (type)                 Output Shape              Param #   \n",
            "=================================================================\n",
            "embedding_20 (Embedding)     (None, 50, 300)           9000000   \n",
            "_________________________________________________________________\n",
            "masking_20 (Masking)         (None, 50, 300)           0         \n",
            "_________________________________________________________________\n",
            "lstm_20 (LSTM)               (None, 64)                93440     \n",
            "_________________________________________________________________\n",
            "dense_40 (Dense)             (None, 64)                4160      \n",
            "_________________________________________________________________\n",
            "dropout_20 (Dropout)         (None, 64)                0         \n",
            "_________________________________________________________________\n",
            "dense_41 (Dense)             (None, 1)                 65        \n",
            "=================================================================\n",
            "Total params: 9,097,665\n",
            "Trainable params: 97,665\n",
            "Non-trainable params: 9,000,000\n",
            "_________________________________________________________________\n",
            "Epoch 1/10\n",
            "1467/1467 [==============================] - 39s 22ms/step - loss: 0.2009 - acc: 0.9362\n",
            "Epoch 2/10\n",
            "1467/1467 [==============================] - 30s 21ms/step - loss: 0.1501 - acc: 0.9487\n",
            "Epoch 3/10\n",
            "1467/1467 [==============================] - 31s 21ms/step - loss: 0.1384 - acc: 0.9523\n",
            "Epoch 4/10\n",
            "1467/1467 [==============================] - 30s 21ms/step - loss: 0.1292 - acc: 0.9548\n",
            "Epoch 5/10\n",
            "1467/1467 [==============================] - 31s 21ms/step - loss: 0.1206 - acc: 0.9582\n",
            "Epoch 6/10\n",
            "1467/1467 [==============================] - 31s 21ms/step - loss: 0.1127 - acc: 0.9606\n",
            "Epoch 7/10\n",
            "1467/1467 [==============================] - 31s 21ms/step - loss: 0.1040 - acc: 0.9639\n",
            "Epoch 8/10\n",
            "1467/1467 [==============================] - 31s 21ms/step - loss: 0.1008 - acc: 0.9648\n",
            "Epoch 9/10\n",
            "1467/1467 [==============================] - 31s 21ms/step - loss: 0.0933 - acc: 0.9678\n",
            "Epoch 10/10\n",
            "1467/1467 [==============================] - 31s 21ms/step - loss: 0.0868 - acc: 0.9696\n",
            "*********************test***********************\n",
            "1467/1467 [==============================] - 31s 20ms/step - loss: 0.1647 - acc: 0.9469\n",
            "[0.1647060215473175, 0.9468727111816406]\n",
            "---------------------vizualize---------------------\n"
          ],
          "name": "stdout"
        },
        {
          "output_type": "display_data",
          "data": {
            "image/png": "[encoded data removed]",
            "text/plain": [
              "<Figure size 432x288 with 1 Axes>"
            ]
          },
          "metadata": {
            "tags": [],
            "needs_background": "light"
          }
        },
        {
          "output_type": "display_data",
          "data": {
            "image/png": "[encoded data removed]",
            "text/plain": [
              "<Figure size 432x288 with 1 Axes>"
            ]
          },
          "metadata": {
            "tags": [],
            "needs_background": "light"
          }
        },
        {
          "output_type": "stream",
          "text": [
            "Model: \"sequential_21\"\n",
            "_________________________________________________________________\n",
            "Layer (type)                 Output Shape              Param #   \n",
            "=================================================================\n",
            "embedding_21 (Embedding)     (None, 50, 300)           9000000   \n",
            "_________________________________________________________________\n",
            "masking_21 (Masking)         (None, 50, 300)           0         \n",
            "_________________________________________________________________\n",
            "lstm_21 (LSTM)               (None, 64)                93440     \n",
            "_________________________________________________________________\n",
            "dense_42 (Dense)             (None, 64)                4160      \n",
            "_________________________________________________________________\n",
            "dropout_21 (Dropout)         (None, 64)                0         \n",
            "_________________________________________________________________\n",
            "dense_43 (Dense)             (None, 1)                 65        \n",
            "=================================================================\n",
            "Total params: 9,097,665\n",
            "Trainable params: 97,665\n",
            "Non-trainable params: 9,000,000\n",
            "_________________________________________________________________\n",
            "Epoch 1/10\n",
            "1467/1467 [==============================] - 38s 22ms/step - loss: 0.1984 - acc: 0.9373\n",
            "Epoch 2/10\n",
            "1467/1467 [==============================] - 31s 21ms/step - loss: 0.1527 - acc: 0.9471\n",
            "Epoch 3/10\n",
            "1467/1467 [==============================] - 31s 21ms/step - loss: 0.1376 - acc: 0.9519\n",
            "Epoch 4/10\n",
            "1467/1467 [==============================] - 32s 22ms/step - loss: 0.1288 - acc: 0.9549\n",
            "Epoch 5/10\n",
            "1467/1467 [==============================] - 32s 22ms/step - loss: 0.1210 - acc: 0.9574\n",
            "Epoch 6/10\n",
            "1467/1467 [==============================] - 32s 22ms/step - loss: 0.1129 - acc: 0.9604\n",
            "Epoch 7/10\n",
            "1467/1467 [==============================] - 32s 22ms/step - loss: 0.1056 - acc: 0.9628\n",
            "Epoch 8/10\n",
            "1467/1467 [==============================] - 32s 22ms/step - loss: 0.1001 - acc: 0.9648\n",
            "Epoch 9/10\n",
            "1467/1467 [==============================] - 32s 22ms/step - loss: 0.0953 - acc: 0.9658\n",
            "Epoch 10/10\n",
            "1467/1467 [==============================] - 32s 22ms/step - loss: 0.0891 - acc: 0.9685\n",
            "*********************test***********************\n",
            "1467/1467 [==============================] - 31s 20ms/step - loss: 0.1628 - acc: 0.9485\n",
            "[0.16280458867549896, 0.9485136270523071]\n",
            "---------------------vizualize---------------------\n"
          ],
          "name": "stdout"
        },
        {
          "output_type": "display_data",
          "data": {
            "image/png": "[encoded data removed]",
            "text/plain": [
              "<Figure size 432x288 with 1 Axes>"
            ]
          },
          "metadata": {
            "tags": [],
            "needs_background": "light"
          }
        },
        {
          "output_type": "display_data",
          "data": {
            "image/png": "[encoded data removed]",
            "text/plain": [
              "<Figure size 432x288 with 1 Axes>"
            ]
          },
          "metadata": {
            "tags": [],
            "needs_background": "light"
          }
        },
        {
          "output_type": "stream",
          "text": [
            "Model: \"sequential_22\"\n",
            "_________________________________________________________________\n",
            "Layer (type)                 Output Shape              Param #   \n",
            "=================================================================\n",
            "embedding_22 (Embedding)     (None, 50, 300)           9000000   \n",
            "_________________________________________________________________\n",
            "masking_22 (Masking)         (None, 50, 300)           0         \n",
            "_________________________________________________________________\n",
            "lstm_22 (LSTM)               (None, 64)                93440     \n",
            "_________________________________________________________________\n",
            "dense_44 (Dense)             (None, 64)                4160      \n",
            "_________________________________________________________________\n",
            "dropout_22 (Dropout)         (None, 64)                0         \n",
            "_________________________________________________________________\n",
            "dense_45 (Dense)             (None, 1)                 65        \n",
            "=================================================================\n",
            "Total params: 9,097,665\n",
            "Trainable params: 97,665\n",
            "Non-trainable params: 9,000,000\n",
            "_________________________________________________________________\n",
            "Epoch 1/10\n",
            "1467/1467 [==============================] - 39s 22ms/step - loss: 0.2032 - acc: 0.9344\n",
            "Epoch 2/10\n",
            "1467/1467 [==============================] - 31s 21ms/step - loss: 0.1534 - acc: 0.9474\n",
            "Epoch 3/10\n",
            "1467/1467 [==============================] - 31s 21ms/step - loss: 0.1416 - acc: 0.9507\n",
            "Epoch 4/10\n",
            "1467/1467 [==============================] - 32s 22ms/step - loss: 0.1281 - acc: 0.9551\n",
            "Epoch 5/10\n",
            "1467/1467 [==============================] - 31s 21ms/step - loss: 0.1218 - acc: 0.9575\n",
            "Epoch 6/10\n",
            "1467/1467 [==============================] - 31s 21ms/step - loss: 0.1157 - acc: 0.9592\n",
            "Epoch 7/10\n",
            "1467/1467 [==============================] - 32s 22ms/step - loss: 0.1096 - acc: 0.9613\n",
            "Epoch 8/10\n",
            "1467/1467 [==============================] - 32s 21ms/step - loss: 0.0990 - acc: 0.9649\n",
            "Epoch 9/10\n",
            "1467/1467 [==============================] - 32s 22ms/step - loss: 0.0955 - acc: 0.9664\n",
            "Epoch 10/10\n",
            "1467/1467 [==============================] - 31s 21ms/step - loss: 0.0903 - acc: 0.9683\n",
            "*********************test***********************\n",
            "1467/1467 [==============================] - 31s 20ms/step - loss: 0.1675 - acc: 0.9521\n",
            "[0.16753236949443817, 0.9521151185035706]\n",
            "---------------------vizualize---------------------\n"
          ],
          "name": "stdout"
        },
        {
          "output_type": "display_data",
          "data": {
            "image/png": "[encoded data removed]",
            "text/plain": [
              "<Figure size 432x288 with 1 Axes>"
            ]
          },
          "metadata": {
            "tags": [],
            "needs_background": "light"
          }
        },
        {
          "output_type": "display_data",
          "data": {
            "image/png": "[encoded data removed]",
            "text/plain": [
              "<Figure size 432x288 with 1 Axes>"
            ]
          },
          "metadata": {
            "tags": [],
            "needs_background": "light"
          }
        },
        {
          "output_type": "stream",
          "text": [
            "Model: \"sequential_23\"\n",
            "_________________________________________________________________\n",
            "Layer (type)                 Output Shape              Param #   \n",
            "=================================================================\n",
            "embedding_23 (Embedding)     (None, 50, 300)           9000000   \n",
            "_________________________________________________________________\n",
            "masking_23 (Masking)         (None, 50, 300)           0         \n",
            "_________________________________________________________________\n",
            "lstm_23 (LSTM)               (None, 64)                93440     \n",
            "_________________________________________________________________\n",
            "dense_46 (Dense)             (None, 64)                4160      \n",
            "_________________________________________________________________\n",
            "dropout_23 (Dropout)         (None, 64)                0         \n",
            "_________________________________________________________________\n",
            "dense_47 (Dense)             (None, 1)                 65        \n",
            "=================================================================\n",
            "Total params: 9,097,665\n",
            "Trainable params: 97,665\n",
            "Non-trainable params: 9,000,000\n",
            "_________________________________________________________________\n",
            "Epoch 1/10\n",
            "1467/1467 [==============================] - 38s 22ms/step - loss: 0.1981 - acc: 0.9370\n",
            "Epoch 2/10\n",
            "1467/1467 [==============================] - 31s 21ms/step - loss: 0.1542 - acc: 0.9474\n",
            "Epoch 3/10\n",
            "1467/1467 [==============================] - 32s 22ms/step - loss: 0.1392 - acc: 0.9523\n",
            "Epoch 4/10\n",
            "1467/1467 [==============================] - 32s 21ms/step - loss: 0.1298 - acc: 0.9544\n",
            "Epoch 5/10\n",
            "1467/1467 [==============================] - 32s 22ms/step - loss: 0.1227 - acc: 0.9571\n",
            "Epoch 6/10\n",
            "1467/1467 [==============================] - 31s 21ms/step - loss: 0.1157 - acc: 0.9592\n",
            "Epoch 7/10\n",
            "1467/1467 [==============================] - 32s 22ms/step - loss: 0.1084 - acc: 0.9614\n",
            "Epoch 8/10\n",
            "1467/1467 [==============================] - 32s 22ms/step - loss: 0.1016 - acc: 0.9642\n",
            "Epoch 9/10\n",
            "1467/1467 [==============================] - 31s 21ms/step - loss: 0.0965 - acc: 0.9662\n",
            "Epoch 10/10\n",
            "1467/1467 [==============================] - 31s 21ms/step - loss: 0.0927 - acc: 0.9670\n",
            "*********************test***********************\n",
            "1467/1467 [==============================] - 32s 20ms/step - loss: 0.1616 - acc: 0.9521\n",
            "[0.1615745574235916, 0.9521140456199646]\n",
            "---------------------vizualize---------------------\n"
          ],
          "name": "stdout"
        },
        {
          "output_type": "display_data",
          "data": {
            "image/png": "[encoded data removed]",
            "text/plain": [
              "<Figure size 432x288 with 1 Axes>"
            ]
          },
          "metadata": {
            "tags": [],
            "needs_background": "light"
          }
        },
        {
          "output_type": "display_data",
          "data": {
            "image/png": "[encoded data removed]",
            "text/plain": [
              "<Figure size 432x288 with 1 Axes>"
            ]
          },
          "metadata": {
            "tags": [],
            "needs_background": "light"
          }
        },
        {
          "output_type": "stream",
          "text": [
            "Model: \"sequential_24\"\n",
            "_________________________________________________________________\n",
            "Layer (type)                 Output Shape              Param #   \n",
            "=================================================================\n",
            "embedding_24 (Embedding)     (None, 50, 300)           9000000   \n",
            "_________________________________________________________________\n",
            "masking_24 (Masking)         (None, 50, 300)           0         \n",
            "_________________________________________________________________\n",
            "lstm_24 (LSTM)               (None, 64)                93440     \n",
            "_________________________________________________________________\n",
            "dense_48 (Dense)             (None, 64)                4160      \n",
            "_________________________________________________________________\n",
            "dropout_24 (Dropout)         (None, 64)                0         \n",
            "_________________________________________________________________\n",
            "dense_49 (Dense)             (None, 1)                 65        \n",
            "=================================================================\n",
            "Total params: 9,097,665\n",
            "Trainable params: 97,665\n",
            "Non-trainable params: 9,000,000\n",
            "_________________________________________________________________\n",
            "Epoch 1/10\n",
            "1467/1467 [==============================] - 39s 23ms/step - loss: 0.1954 - acc: 0.9377\n",
            "Epoch 2/10\n",
            "1467/1467 [==============================] - 32s 22ms/step - loss: 0.1535 - acc: 0.9471\n",
            "Epoch 3/10\n",
            "1467/1467 [==============================] - 32s 22ms/step - loss: 0.1406 - acc: 0.9510\n",
            "Epoch 4/10\n",
            "1467/1467 [==============================] - 32s 22ms/step - loss: 0.1293 - acc: 0.9546\n",
            "Epoch 5/10\n",
            "1467/1467 [==============================] - 32s 21ms/step - loss: 0.1215 - acc: 0.9567\n",
            "Epoch 6/10\n",
            "1467/1467 [==============================] - 32s 22ms/step - loss: 0.1142 - acc: 0.9595\n",
            "Epoch 7/10\n",
            "1467/1467 [==============================] - 32s 22ms/step - loss: 0.1061 - acc: 0.9622\n",
            "Epoch 8/10\n",
            "1467/1467 [==============================] - 32s 22ms/step - loss: 0.1011 - acc: 0.9646\n",
            "Epoch 9/10\n",
            "1467/1467 [==============================] - 32s 22ms/step - loss: 0.0935 - acc: 0.9659\n",
            "Epoch 10/10\n",
            "1467/1467 [==============================] - 32s 22ms/step - loss: 0.0896 - acc: 0.9680\n",
            "*********************test***********************\n",
            "1467/1467 [==============================] - 32s 20ms/step - loss: 0.1568 - acc: 0.9522\n",
            "[0.1567823886871338, 0.952156662940979]\n",
            "---------------------vizualize---------------------\n"
          ],
          "name": "stdout"
        },
        {
          "output_type": "display_data",
          "data": {
            "image/png": "[encoded data removed]",
            "text/plain": [
              "<Figure size 432x288 with 1 Axes>"
            ]
          },
          "metadata": {
            "tags": [],
            "needs_background": "light"
          }
        },
        {
          "output_type": "display_data",
          "data": {
            "image/png": "[encoded data removed]",
            "text/plain": [
              "<Figure size 432x288 with 1 Axes>"
            ]
          },
          "metadata": {
            "tags": [],
            "needs_background": "light"
          }
        }
      ]
    },
    {
      "cell_type": "code",
      "metadata": {
        "colab": {
          "base_uri": "https://localhost:8080/",
          "height": 1000
        },
        "id": "a0OwD1xpq9An",
        "scrolled": false,
        "outputId": "d4b901e3-cc8e-4e0f-ecc4-9ffd5421ba26"
      },
      "source": [
        "unique_words = len(word_index)\n",
        "total_words = unique_words + 1\n",
        "\n",
        "\n",
        "# for first embedding\n",
        "for i in range(5):\n",
        "    x_train = a[0][i]\n",
        "    x_test = a[1][i]\n",
        "    y_train = a[2][i]\n",
        "    y_test = a[3][i]\n",
        "    with tpu_strategy.scope(): # creating the model in the TPUStrategy scope means we will train the model on the TPU\n",
        "      makeNewModel(x_train, x_test, y_train, y_test,embeddingMatrix1, 400,total_words)\n",
        "    \n",
        "# for second embedding\n",
        "\n",
        "\n",
        "    \n",
        "\n",
        "   "
      ],
      "execution_count": 20,
      "outputs": [
        {
          "output_type": "stream",
          "text": [
            "101601\n",
            "Embeddings Matrix shape :  (101601, 400)\n",
            "Model: \"sequential_7\"\n",
            "_________________________________________________________________\n",
            "Layer (type)                 Output Shape              Param #   \n",
            "=================================================================\n",
            "embedding_7 (Embedding)      (None, 50, 400)           40640400  \n",
            "_________________________________________________________________\n",
            "masking_7 (Masking)          (None, 50, 400)           0         \n",
            "_________________________________________________________________\n",
            "lstm_7 (LSTM)                (None, 64)                119040    \n",
            "_________________________________________________________________\n",
            "dense_14 (Dense)             (None, 64)                4160      \n",
            "_________________________________________________________________\n",
            "dropout_7 (Dropout)          (None, 64)                0         \n",
            "_________________________________________________________________\n",
            "dense_15 (Dense)             (None, 1)                 65        \n",
            "=================================================================\n",
            "Total params: 40,763,665\n",
            "Trainable params: 123,265\n",
            "Non-trainable params: 40,640,400\n",
            "_________________________________________________________________\n",
            "Epoch 1/10\n",
            "734/734 [==============================] - 28s 27ms/step - loss: 0.2095 - acc: 0.9327\n",
            "Epoch 2/10\n",
            "734/734 [==============================] - 18s 24ms/step - loss: 0.1639 - acc: 0.9443\n",
            "Epoch 3/10\n",
            "734/734 [==============================] - 17s 24ms/step - loss: 0.1501 - acc: 0.9480\n",
            "Epoch 4/10\n",
            "734/734 [==============================] - 17s 23ms/step - loss: 0.1395 - acc: 0.9516\n",
            "Epoch 5/10\n",
            "734/734 [==============================] - 17s 24ms/step - loss: 0.1336 - acc: 0.9532\n",
            "Epoch 6/10\n",
            "734/734 [==============================] - 18s 24ms/step - loss: 0.1261 - acc: 0.9563\n",
            "Epoch 7/10\n",
            "734/734 [==============================] - 18s 24ms/step - loss: 0.1170 - acc: 0.9582\n",
            "Epoch 8/10\n",
            "734/734 [==============================] - 18s 24ms/step - loss: 0.1123 - acc: 0.9594\n",
            "Epoch 9/10\n",
            "734/734 [==============================] - 18s 24ms/step - loss: 0.1077 - acc: 0.9622\n",
            "Epoch 10/10\n",
            "734/734 [==============================] - 17s 24ms/step - loss: 0.1023 - acc: 0.9641\n",
            "*********************test***********************\n",
            "1467/1467 [==============================] - 32s 20ms/step - loss: 0.1702 - acc: 0.9450\n",
            "[0.17024949193000793, 0.9449973702430725]\n",
            "---------------------vizualize---------------------\n"
          ],
          "name": "stdout"
        },
        {
          "output_type": "display_data",
          "data": {
            "image/png": "[encoded data removed]",
            "text/plain": [
              "<Figure size 432x288 with 1 Axes>"
            ]
          },
          "metadata": {
            "tags": [],
            "needs_background": "light"
          }
        },
        {
          "output_type": "display_data",
          "data": {
            "image/png": "[encoded data removed]",
            "text/plain": [
              "<Figure size 432x288 with 1 Axes>"
            ]
          },
          "metadata": {
            "tags": [],
            "needs_background": "light"
          }
        },
        {
          "output_type": "stream",
          "text": [
            "Model: \"sequential_8\"\n",
            "_________________________________________________________________\n",
            "Layer (type)                 Output Shape              Param #   \n",
            "=================================================================\n",
            "embedding_8 (Embedding)      (None, 50, 400)           40640400  \n",
            "_________________________________________________________________\n",
            "masking_8 (Masking)          (None, 50, 400)           0         \n",
            "_________________________________________________________________\n",
            "lstm_8 (LSTM)                (None, 64)                119040    \n",
            "_________________________________________________________________\n",
            "dense_16 (Dense)             (None, 64)                4160      \n",
            "_________________________________________________________________\n",
            "dropout_8 (Dropout)          (None, 64)                0         \n",
            "_________________________________________________________________\n",
            "dense_17 (Dense)             (None, 1)                 65        \n",
            "=================================================================\n",
            "Total params: 40,763,665\n",
            "Trainable params: 123,265\n",
            "Non-trainable params: 40,640,400\n",
            "_________________________________________________________________\n",
            "Epoch 1/10\n",
            "734/734 [==============================] - 25s 26ms/step - loss: 0.2079 - acc: 0.9349\n",
            "Epoch 2/10\n",
            "734/734 [==============================] - 18s 24ms/step - loss: 0.1630 - acc: 0.9442\n",
            "Epoch 3/10\n",
            "734/734 [==============================] - 18s 24ms/step - loss: 0.1495 - acc: 0.9479\n",
            "Epoch 4/10\n",
            "734/734 [==============================] - 17s 24ms/step - loss: 0.1400 - acc: 0.9514\n",
            "Epoch 5/10\n",
            "734/734 [==============================] - 18s 24ms/step - loss: 0.1340 - acc: 0.9528\n",
            "Epoch 6/10\n",
            "734/734 [==============================] - 18s 24ms/step - loss: 0.1245 - acc: 0.9550\n",
            "Epoch 7/10\n",
            "734/734 [==============================] - 18s 24ms/step - loss: 0.1184 - acc: 0.9574\n",
            "Epoch 8/10\n",
            "734/734 [==============================] - 18s 24ms/step - loss: 0.1131 - acc: 0.9595\n",
            "Epoch 9/10\n",
            "734/734 [==============================] - 17s 24ms/step - loss: 0.1053 - acc: 0.9625\n",
            "Epoch 10/10\n",
            "734/734 [==============================] - 18s 24ms/step - loss: 0.1018 - acc: 0.9632\n",
            "*********************test***********************\n",
            "1467/1467 [==============================] - 31s 20ms/step - loss: 0.1771 - acc: 0.9468\n",
            "[0.177141934633255, 0.9467874765396118]\n",
            "---------------------vizualize---------------------\n"
          ],
          "name": "stdout"
        },
        {
          "output_type": "display_data",
          "data": {
            "image/png": "[encoded data removed]",
            "text/plain": [
              "<Figure size 432x288 with 1 Axes>"
            ]
          },
          "metadata": {
            "tags": [],
            "needs_background": "light"
          }
        },
        {
          "output_type": "display_data",
          "data": {
            "image/png": "[encoded data removed]",
            "text/plain": [
              "<Figure size 432x288 with 1 Axes>"
            ]
          },
          "metadata": {
            "tags": [],
            "needs_background": "light"
          }
        },
        {
          "output_type": "stream",
          "text": [
            "Model: \"sequential_9\"\n",
            "_________________________________________________________________\n",
            "Layer (type)                 Output Shape              Param #   \n",
            "=================================================================\n",
            "embedding_9 (Embedding)      (None, 50, 400)           40640400  \n",
            "_________________________________________________________________\n",
            "masking_9 (Masking)          (None, 50, 400)           0         \n",
            "_________________________________________________________________\n",
            "lstm_9 (LSTM)                (None, 64)                119040    \n",
            "_________________________________________________________________\n",
            "dense_18 (Dense)             (None, 64)                4160      \n",
            "_________________________________________________________________\n",
            "dropout_9 (Dropout)          (None, 64)                0         \n",
            "_________________________________________________________________\n",
            "dense_19 (Dense)             (None, 1)                 65        \n",
            "=================================================================\n",
            "Total params: 40,763,665\n",
            "Trainable params: 123,265\n",
            "Non-trainable params: 40,640,400\n",
            "_________________________________________________________________\n",
            "Epoch 1/10\n",
            "734/734 [==============================] - 26s 26ms/step - loss: 0.2108 - acc: 0.9343\n",
            "Epoch 2/10\n",
            "734/734 [==============================] - 18s 25ms/step - loss: 0.1618 - acc: 0.9444\n",
            "Epoch 3/10\n",
            "734/734 [==============================] - 18s 24ms/step - loss: 0.1493 - acc: 0.9481\n",
            "Epoch 4/10\n",
            "734/734 [==============================] - 18s 25ms/step - loss: 0.1399 - acc: 0.9509\n",
            "Epoch 5/10\n",
            "734/734 [==============================] - 18s 24ms/step - loss: 0.1310 - acc: 0.9542\n",
            "Epoch 6/10\n",
            "734/734 [==============================] - 18s 24ms/step - loss: 0.1259 - acc: 0.9552\n",
            "Epoch 7/10\n",
            "734/734 [==============================] - 18s 24ms/step - loss: 0.1196 - acc: 0.9571\n",
            "Epoch 8/10\n",
            "734/734 [==============================] - 18s 24ms/step - loss: 0.1105 - acc: 0.9605\n",
            "Epoch 9/10\n",
            "734/734 [==============================] - 17s 24ms/step - loss: 0.1051 - acc: 0.9625\n",
            "Epoch 10/10\n",
            "734/734 [==============================] - 18s 24ms/step - loss: 0.1012 - acc: 0.9637\n",
            "*********************test***********************\n",
            "1467/1467 [==============================] - 32s 20ms/step - loss: 0.1735 - acc: 0.9437\n",
            "[0.17345395684242249, 0.9436761140823364]\n",
            "---------------------vizualize---------------------\n"
          ],
          "name": "stdout"
        },
        {
          "output_type": "display_data",
          "data": {
            "image/png": "[encoded data removed]",
            "text/plain": [
              "<Figure size 432x288 with 1 Axes>"
            ]
          },
          "metadata": {
            "tags": [],
            "needs_background": "light"
          }
        },
        {
          "output_type": "display_data",
          "data": {
            "image/png": "[encoded data removed]",
            "text/plain": [
              "<Figure size 432x288 with 1 Axes>"
            ]
          },
          "metadata": {
            "tags": [],
            "needs_background": "light"
          }
        },
        {
          "output_type": "stream",
          "text": [
            "Model: \"sequential_10\"\n",
            "_________________________________________________________________\n",
            "Layer (type)                 Output Shape              Param #   \n",
            "=================================================================\n",
            "embedding_10 (Embedding)     (None, 50, 400)           40640400  \n",
            "_________________________________________________________________\n",
            "masking_10 (Masking)         (None, 50, 400)           0         \n",
            "_________________________________________________________________\n",
            "lstm_10 (LSTM)               (None, 64)                119040    \n",
            "_________________________________________________________________\n",
            "dense_20 (Dense)             (None, 64)                4160      \n",
            "_________________________________________________________________\n",
            "dropout_10 (Dropout)         (None, 64)                0         \n",
            "_________________________________________________________________\n",
            "dense_21 (Dense)             (None, 1)                 65        \n",
            "=================================================================\n",
            "Total params: 40,763,665\n",
            "Trainable params: 123,265\n",
            "Non-trainable params: 40,640,400\n",
            "_________________________________________________________________\n",
            "Epoch 1/10\n",
            "734/734 [==============================] - 25s 26ms/step - loss: 0.2110 - acc: 0.9349\n",
            "Epoch 2/10\n",
            "734/734 [==============================] - 18s 25ms/step - loss: 0.1619 - acc: 0.9448\n",
            "Epoch 3/10\n",
            "734/734 [==============================] - 18s 24ms/step - loss: 0.1512 - acc: 0.9472\n",
            "Epoch 4/10\n",
            "734/734 [==============================] - 18s 24ms/step - loss: 0.1397 - acc: 0.9503\n",
            "Epoch 5/10\n",
            "734/734 [==============================] - 18s 24ms/step - loss: 0.1320 - acc: 0.9532\n",
            "Epoch 6/10\n",
            "734/734 [==============================] - 18s 24ms/step - loss: 0.1256 - acc: 0.9557\n",
            "Epoch 7/10\n",
            "734/734 [==============================] - 18s 24ms/step - loss: 0.1161 - acc: 0.9586\n",
            "Epoch 8/10\n",
            "734/734 [==============================] - 19s 25ms/step - loss: 0.1091 - acc: 0.9612\n",
            "Epoch 9/10\n",
            "734/734 [==============================] - 18s 24ms/step - loss: 0.1066 - acc: 0.9621\n",
            "Epoch 10/10\n",
            "734/734 [==============================] - 17s 24ms/step - loss: 0.0987 - acc: 0.9641\n",
            "*********************test***********************\n",
            "1467/1467 [==============================] - 31s 20ms/step - loss: 0.1693 - acc: 0.9477\n",
            "[0.1693321168422699, 0.9476813673973083]\n",
            "---------------------vizualize---------------------\n"
          ],
          "name": "stdout"
        },
        {
          "output_type": "display_data",
          "data": {
            "image/png": "[encoded data removed]",
            "text/plain": [
              "<Figure size 432x288 with 1 Axes>"
            ]
          },
          "metadata": {
            "tags": [],
            "needs_background": "light"
          }
        },
        {
          "output_type": "display_data",
          "data": {
            "image/png": "[encoded data removed]",
            "text/plain": [
              "<Figure size 432x288 with 1 Axes>"
            ]
          },
          "metadata": {
            "tags": [],
            "needs_background": "light"
          }
        },
        {
          "output_type": "stream",
          "text": [
            "Model: \"sequential_11\"\n",
            "_________________________________________________________________\n",
            "Layer (type)                 Output Shape              Param #   \n",
            "=================================================================\n",
            "embedding_11 (Embedding)     (None, 50, 400)           40640400  \n",
            "_________________________________________________________________\n",
            "masking_11 (Masking)         (None, 50, 400)           0         \n",
            "_________________________________________________________________\n",
            "lstm_11 (LSTM)               (None, 64)                119040    \n",
            "_________________________________________________________________\n",
            "dense_22 (Dense)             (None, 64)                4160      \n",
            "_________________________________________________________________\n",
            "dropout_11 (Dropout)         (None, 64)                0         \n",
            "_________________________________________________________________\n",
            "dense_23 (Dense)             (None, 1)                 65        \n",
            "=================================================================\n",
            "Total params: 40,763,665\n",
            "Trainable params: 123,265\n",
            "Non-trainable params: 40,640,400\n",
            "_________________________________________________________________\n",
            "Epoch 1/10\n",
            "734/734 [==============================] - 25s 27ms/step - loss: 0.2167 - acc: 0.9314\n",
            "Epoch 2/10\n",
            "734/734 [==============================] - 18s 25ms/step - loss: 0.1647 - acc: 0.9429\n",
            "Epoch 3/10\n",
            "734/734 [==============================] - 18s 24ms/step - loss: 0.1517 - acc: 0.9480\n",
            "Epoch 4/10\n",
            "734/734 [==============================] - 18s 24ms/step - loss: 0.1420 - acc: 0.9512\n",
            "Epoch 5/10\n",
            "734/734 [==============================] - 18s 24ms/step - loss: 0.1298 - acc: 0.9549\n",
            "Epoch 6/10\n",
            "734/734 [==============================] - 18s 24ms/step - loss: 0.1256 - acc: 0.9557\n",
            "Epoch 7/10\n",
            "734/734 [==============================] - 18s 24ms/step - loss: 0.1197 - acc: 0.9581\n",
            "Epoch 8/10\n",
            "734/734 [==============================] - 18s 25ms/step - loss: 0.1113 - acc: 0.9611\n",
            "Epoch 9/10\n",
            "734/734 [==============================] - 18s 25ms/step - loss: 0.1046 - acc: 0.9627\n",
            "Epoch 10/10\n",
            "734/734 [==============================] - 18s 24ms/step - loss: 0.1018 - acc: 0.9640\n",
            "*********************test***********************\n",
            "1467/1467 [==============================] - 32s 20ms/step - loss: 0.1721 - acc: 0.9479\n",
            "[0.17213670909404755, 0.9478944540023804]\n",
            "---------------------vizualize---------------------\n"
          ],
          "name": "stdout"
        },
        {
          "output_type": "display_data",
          "data": {
            "image/png": "[encoded data removed]",
            "text/plain": [
              "<Figure size 432x288 with 1 Axes>"
            ]
          },
          "metadata": {
            "tags": [],
            "needs_background": "light"
          }
        },
        {
          "output_type": "display_data",
          "data": {
            "image/png": "[encoded data removed]",
            "text/plain": [
              "<Figure size 432x288 with 1 Axes>"
            ]
          },
          "metadata": {
            "tags": [],
            "needs_background": "light"
          }
        }
      ]
    },
    {
      "cell_type": "code",
      "metadata": {
        "id": "BUwIr9dmq9Ao"
      },
      "source": [
        "print(len(a[0][4]))\n",
        "print(len(a[1][4]))\n",
        "print(len(a[2][4]))\n",
        "print(len(a[3][4]))"
      ],
      "execution_count": null,
      "outputs": []
    },
    {
      "cell_type": "code",
      "metadata": {
        "id": "LKl1PUhuq9Ao"
      },
      "source": [
        ""
      ],
      "execution_count": null,
      "outputs": []
    },
    {
      "cell_type": "code",
      "metadata": {
        "id": "LOCKMpbjq9Ap"
      },
      "source": [
        ""
      ],
      "execution_count": null,
      "outputs": []
    },
    {
      "cell_type": "code",
      "metadata": {
        "id": "2H95vpu2q9Ap"
      },
      "source": [
        "model.evaluate(x_test, y_test)"
      ],
      "execution_count": null,
      "outputs": []
    },
    {
      "cell_type": "code",
      "metadata": {
        "id": "jK4x9BfDq9Ap"
      },
      "source": [
        ""
      ],
      "execution_count": null,
      "outputs": []
    },
    {
      "cell_type": "code",
      "metadata": {
        "id": "2yulo9fzq9Aq"
      },
      "source": [
        "Embedding(input_dim=num_words,\n",
        "              input_length = training_length,\n",
        "              output_dim=100,\n",
        "              weights=[embedding_matrix],\n",
        "              trainable=False,\n",
        "              mask_zero=True))"
      ],
      "execution_count": null,
      "outputs": []
    },
    {
      "cell_type": "code",
      "metadata": {
        "id": "Ohx0TSY7q9Aq"
      },
      "source": [
        "from keras.models import Sequential\n",
        "from keras.layers import Embedding, Flatten, Dense, LSTM\n",
        "\n",
        "model = Sequential()\n",
        "model.add(Embedding(input_dim = max_words, input_length=maxlen, weights=[embedding_matrix],\n",
        "                    output_dim=embedding_dim , trainable=False, mask_zero=True))\n",
        "model.add(Flatten())\n",
        "model.add(Dense(32, activation='relu'))\n",
        "model.add(Dense(1, activation='sigmoid'))\n",
        "model.summary()"
      ],
      "execution_count": null,
      "outputs": []
    },
    {
      "cell_type": "code",
      "metadata": {
        "id": "wmU63_Dhq9Aq"
      },
      "source": [
        "# LOADING THE G LO V E EMBEDDINGS IN THE MODEL\n",
        "\n",
        "model.layers[0].set_weights([embedding_matrix])\n",
        "model.layers[0].trainable = False "
      ],
      "execution_count": null,
      "outputs": []
    },
    {
      "cell_type": "code",
      "metadata": {
        "id": "H72eBqIyq9Aq"
      },
      "source": [
        "x_train.shape"
      ],
      "execution_count": null,
      "outputs": []
    },
    {
      "cell_type": "code",
      "metadata": {
        "id": "o_xVlpUmq9Ar"
      },
      "source": [
        "# TRAINING AND EVALUATING THE MODEL\n",
        "\n",
        "model.compile(optimizer='rmsprop', loss='binary_crossentropy', metrics=['acc'])\n",
        "history = model.fit(x_train, y_train, epochs=10, batch_size=512, validation_data=(x_val, y_val))\n",
        "model.save_weights('pre_trained_glove_model.h5')"
      ],
      "execution_count": null,
      "outputs": []
    },
    {
      "cell_type": "code",
      "metadata": {
        "id": "ZYyesADrq9Ar",
        "scrolled": true
      },
      "source": [
        "# Now, plot the model’s performance over time\n",
        "import matplotlib.pyplot as plt\n",
        "\n",
        "acc = history.history['acc']\n",
        "val_acc = history.history['val_acc']\n",
        "\n",
        "loss = history.history['loss']\n",
        "val_loss = history.history['val_loss']\n",
        "\n",
        "epochs = range(1, len(acc) + 1)\n",
        "\n",
        "plt.plot(epochs, acc, 'bo', label='Training acc')\n",
        "plt.plot(epochs, val_acc, 'b', label='Validation acc')\n",
        "\n",
        "plt.title('Training and validation accuracy')\n",
        "\n",
        "plt.legend()\n",
        "plt.figure()\n",
        "plt.plot(epochs, loss, 'bo', label='Training loss')\n",
        "plt.plot(epochs, val_loss, 'b', label='Validation loss')\n",
        "plt.title('Training and validation loss')\n",
        "plt.legend()\n",
        "plt.show()"
      ],
      "execution_count": null,
      "outputs": []
    },
    {
      "cell_type": "code",
      "metadata": {
        "id": "UJhaEFVXq9As"
      },
      "source": [
        "model.load_weights('pre_trained_glove_model.h5')\n",
        "model.evaluate(x_test, y_test)"
      ],
      "execution_count": null,
      "outputs": []
    },
    {
      "cell_type": "code",
      "metadata": {
        "id": "1vMfITF-q9As"
      },
      "source": [
        ""
      ],
      "execution_count": null,
      "outputs": []
    },
    {
      "cell_type": "code",
      "metadata": {
        "id": "NGJv4K5zq9As"
      },
      "source": [
        ""
      ],
      "execution_count": null,
      "outputs": []
    },
    {
      "cell_type": "code",
      "metadata": {
        "id": "8cHFoMrkq9As"
      },
      "source": [
        ""
      ],
      "execution_count": null,
      "outputs": []
    },
    {
      "cell_type": "code",
      "metadata": {
        "id": "SxJJE13zq9At"
      },
      "source": [
        ""
      ],
      "execution_count": null,
      "outputs": []
    },
    {
      "cell_type": "code",
      "metadata": {
        "id": "kW1PMi70q9At"
      },
      "source": [
        ""
      ],
      "execution_count": null,
      "outputs": []
    },
    {
      "cell_type": "code",
      "metadata": {
        "id": "UMwrUApUq9At"
      },
      "source": [
        ""
      ],
      "execution_count": null,
      "outputs": []
    },
    {
      "cell_type": "code",
      "metadata": {
        "id": "TCmgJakrq9At"
      },
      "source": [
        ""
      ],
      "execution_count": null,
      "outputs": []
    },
    {
      "cell_type": "code",
      "metadata": {
        "id": "kyIRonSPq9At"
      },
      "source": [
        ""
      ],
      "execution_count": null,
      "outputs": []
    },
    {
      "cell_type": "code",
      "metadata": {
        "id": "Rd3XVfw8q9Au"
      },
      "source": [
        ""
      ],
      "execution_count": null,
      "outputs": []
    },
    {
      "cell_type": "code",
      "metadata": {
        "id": "eaFiliW2q9Au"
      },
      "source": [
        ""
      ],
      "execution_count": null,
      "outputs": []
    },
    {
      "cell_type": "code",
      "metadata": {
        "id": "7L1vTAODq9Au"
      },
      "source": [
        ""
      ],
      "execution_count": null,
      "outputs": []
    },
    {
      "cell_type": "code",
      "metadata": {
        "id": "lcfIct0Rq9Au"
      },
      "source": [
        ""
      ],
      "execution_count": null,
      "outputs": []
    },
    {
      "cell_type": "code",
      "metadata": {
        "id": "malGB6GMq9Au"
      },
      "source": [
        ""
      ],
      "execution_count": null,
      "outputs": []
    },
    {
      "cell_type": "code",
      "metadata": {
        "id": "bTLw0-Nqq9Au"
      },
      "source": [
        ""
      ],
      "execution_count": null,
      "outputs": []
    },
    {
      "cell_type": "code",
      "metadata": {
        "id": "VxVV-jI1q9Au"
      },
      "source": [
        ""
      ],
      "execution_count": null,
      "outputs": []
    },
    {
      "cell_type": "code",
      "metadata": {
        "id": "RWTvWSo-q9Av"
      },
      "source": [
        ""
      ],
      "execution_count": null,
      "outputs": []
    },
    {
      "cell_type": "code",
      "metadata": {
        "id": "v171BHCPq9Av"
      },
      "source": [
        ""
      ],
      "execution_count": null,
      "outputs": []
    },
    {
      "cell_type": "code",
      "metadata": {
        "id": "gtBi-aQ3q9Av"
      },
      "source": [
        ""
      ],
      "execution_count": null,
      "outputs": []
    },
    {
      "cell_type": "code",
      "metadata": {
        "id": "eFFkC-7lq9Av"
      },
      "source": [
        ""
      ],
      "execution_count": null,
      "outputs": []
    },
    {
      "cell_type": "code",
      "metadata": {
        "id": "izXpp1RIq9Av"
      },
      "source": [
        ""
      ],
      "execution_count": null,
      "outputs": []
    },
    {
      "cell_type": "code",
      "metadata": {
        "id": "jX18XYlzq9Av"
      },
      "source": [
        ""
      ],
      "execution_count": null,
      "outputs": []
    },
    {
      "cell_type": "code",
      "metadata": {
        "id": "2eh9fa8Kq9Aw"
      },
      "source": [
        ""
      ],
      "execution_count": null,
      "outputs": []
    },
    {
      "cell_type": "code",
      "metadata": {
        "id": "mRSrqR1dq9Aw"
      },
      "source": [
        ""
      ],
      "execution_count": null,
      "outputs": []
    },
    {
      "cell_type": "code",
      "metadata": {
        "id": "_9B1veVCq9Aw"
      },
      "source": [
        ""
      ],
      "execution_count": null,
      "outputs": []
    },
    {
      "cell_type": "code",
      "metadata": {
        "id": "RxCS6pC9q9Aw"
      },
      "source": [
        ""
      ],
      "execution_count": null,
      "outputs": []
    },
    {
      "cell_type": "code",
      "metadata": {
        "id": "Ka6x7y4RqwUN"
      },
      "source": [
        "\n",
        "import pandas as pd\n",
        "import tensorflow as tf\n",
        "import torch\n",
        "import numpy as np\n",
        "import time\n",
        "import datetime\n",
        "import random\n",
        "import seaborn as sns\n",
        "import matplotlib.pyplot as plt\n",
        "% matplotlib inline\n",
        "\n",
        "from google.colab import drive\n",
        "\n",
        "!pip3 install transformers\n",
        "import transformers\n",
        "from transformers import BertTokenizer\n",
        "from torch.utils.data import TensorDataset, random_split\n",
        "from torch.utils.data import DataLoader, RandomSampler, SequentialSampler\n",
        "from transformers import BertForSequenceClassification, AdamW, BertConfig\n",
        "from transformers import get_linear_schedule_with_warmup\n",
        "\n",
        "from sklearn.metrics import f1_score\n",
        "from sklearn.metrics import recall_score\n",
        "from sklearn.metrics import precision_score\n",
        "from sklearn.metrics import classification_report\n",
        "from sklearn.preprocessing import LabelEncoder"
      ],
      "execution_count": null,
      "outputs": []
    },
    {
      "cell_type": "code",
      "metadata": {
        "id": "MDs0VRQLZW6y"
      },
      "source": [
        "from google.colab import drive \n",
        "a = drive.mount('/content/gdrive')"
      ],
      "execution_count": null,
      "outputs": []
    },
    {
      "cell_type": "code",
      "metadata": {
        "id": "Wt45QZHwmUSC"
      },
      "source": [
        "\n",
        "import requests \n",
        "file_url = \"http://vectors.nlpl.eu/repository/20/70.zip\"\n",
        "    \n",
        "r = requests.get(file_url, stream = True) \n",
        "r\n",
        "with open(\"/content/gdrive/My Drive/70.zip\", \"wb\") as file: \n",
        "    for block in r.iter_content(chunk_size = 1024):\n",
        "         if block: \n",
        "             file.write(block) "
      ],
      "execution_count": null,
      "outputs": []
    },
    {
      "cell_type": "code",
      "metadata": {
        "id": "SUwf2TQnpHY-"
      },
      "source": [
        "\n",
        "# importing required modules\n",
        "from zipfile import ZipFile\n",
        "  \n",
        "# specifying the zip file name\n",
        "file_name = \"/content/gdrive/My Drive/70.zip\"\n",
        "  \n",
        "# opening the zip file in READ mode\n",
        "with ZipFile(file_name, 'r') as zip:\n",
        "    # printing all the contents of the zip file\n",
        "    zip.printdir()\n",
        "  \n",
        "    # extracting all the files\n",
        "    print('Extracting all the files now...')\n",
        "    zip.extractall()\n",
        "    print('Done!')"
      ],
      "execution_count": null,
      "outputs": []
    },
    {
      "cell_type": "code",
      "metadata": {
        "id": "b1gUCNOs3B-D"
      },
      "source": [
        "!pip3 install TurkishStemmer"
      ],
      "execution_count": null,
      "outputs": []
    },
    {
      "cell_type": "code",
      "metadata": {
        "id": "VEpnlZTBxA5V"
      },
      "source": [
        ""
      ],
      "execution_count": null,
      "outputs": []
    },
    {
      "cell_type": "code",
      "metadata": {
        "id": "4IocOYWbxA8F"
      },
      "source": [
        ""
      ],
      "execution_count": null,
      "outputs": []
    },
    {
      "cell_type": "code",
      "metadata": {
        "id": "UJk07sh4xA_c"
      },
      "source": [
        ""
      ],
      "execution_count": null,
      "outputs": []
    },
    {
      "cell_type": "code",
      "metadata": {
        "id": "n16w0aoi1uEh"
      },
      "source": [
        ""
      ],
      "execution_count": null,
      "outputs": []
    },
    {
      "cell_type": "code",
      "metadata": {
        "id": "tRJAIkzwyeUn"
      },
      "source": [
        ""
      ],
      "execution_count": null,
      "outputs": []
    }
  ]
}